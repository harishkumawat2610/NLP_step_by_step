{
 "cells": [
  {
   "cell_type": "code",
   "execution_count": 1,
   "metadata": {},
   "outputs": [
    {
     "name": "stdout",
     "output_type": "stream",
     "text": [
      "showing info https://raw.githubusercontent.com/nltk/nltk_data/gh-pages/index.xml\n"
     ]
    },
    {
     "name": "stderr",
     "output_type": "stream",
     "text": [
      "[nltk_data] Downloading package stopwords to /home/kuma/nltk_data...\n",
      "[nltk_data]   Package stopwords is already up-to-date!\n"
     ]
    }
   ],
   "source": [
    "import nltk\n",
    "nltk.download()\n",
    "\n",
    "paragraph = '''Narendra Modi was born on 17 September, 1950 in Vadnagar, Gujarat to a lower middle class family of grocers. He has proved that success has nothing to do with caste, creed or where a person belongs to. He is the first Prime Minister of India whose mother was alive when he took office. In the Lok Sabha, he represents Varanasi constituency and considered as a master strategist for his party. Since 2014, he is current Prime Minister of India and prior to it he had served as the Chief Minister of Gujarat state from 2001 to 2014. \n",
    "               In Lok Sabha Election 2019, Narendra Modi has won by 4.79 Lac votes against Shalini Yadav, Samajvadi Party. His Swearing-in ceremony is organised on 30th May, 2019 for the second term as a Prime Minister of India. He is is the first BJP leader who has been elected for second term after completion of his five-year tenure.\n",
    "               He is a ray of hope in the lives of billions of Indians and one of the most popular leaders who mostly focuses on development. Even the slogan of our PM Narendra Modi \"Main Bhi Chowkidar\" focuses on the dignity of labour and aims to take the support of working class. He said this slogan because he felt that he is also standing firm and doing his work as the nation's 'chowkidar'. Further he emphasised that every Indian who is fighting for corruption, dirt, social evils etc. for the progress of India is also a 'Chowkidar. This way slogan 'Main bhi chowkidar' went viral.\n",
    "               In 2014 election Narendra Modi led the BJP to an impressive victory. Do you know that as a first time MLA he became CM of Gujarat and also as a first time MP he became the Prime Minister of India? No doubt, he is also one of the best applicable Prime Ministerial candidates for the forthcoming Lok Sabha Elections 2019 from Bharatiya Janta Party (BJP). That is why in Lok Sabha Election results 2019, he again became the voice of India. He always emphasise\n",
    "            Coming age is the age of knowledge. However, rich, poor or powerful a country be, if they want to move ahead, only knowledge can lead them to that path.\n",
    "            Narendra Modi was born on 17 September, 1950 to a family of grocers in Vadnagar, Mehsana district, Bombay State (present Gujarat). His father name is late Damodardas Mulchand Modi and Mother's name is Hiraben Modi and the couple has six children, he is the third eldest among six. In his childhood days Modi helped his father in selling tea at the Vadnagar Railway Station and later ran a tea stall with his brother near a bus terminus.\n",
    "\n",
    "In 1967, he had completed his higher secondary education in Vadnagar. At the age of 8 years, he joined Rashtriya Swayamsevak Sangh (RSS). He doesn’t want to marry so he left home at the age of 17 and travelled across the country for the next two years. In his interviews, he told that in these two years he visited several ashrams founded by Swami Vivekananda. Then Modi returned to Vadnagar and after sometime he again left for Ahmedabad. There, Modi lived with his uncle, who worked in the canteen at the Gujarat State Road Transport Corporation.\n",
    "\n",
    "Let us tell you that in 1970 that is at the age of 20, he was so influenced by the RSS that he became the full time Pracharak and he had formally joined RSS in 1971 at the age of 21. In his area, in the early 1970s, he set up a unit of RSS's students wing namely Akhil Bharatiya Vidyarthi Parishad. No doubt, his association with the organisation has significantly benefited his political career.  He has completed the Bachelor of Arts degree in political science from School of Open Learning at University of Delhi and later he had completed his Master degree in political science from Gujarat University.\n",
    "'''"
   ]
  },
  {
   "cell_type": "code",
   "execution_count": 2,
   "metadata": {},
   "outputs": [],
   "source": [
    "#import library for stemming\n",
    "from nltk.stem import PorterStemmer\n",
    "from nltk.corpus import stopwords"
   ]
  },
  {
   "cell_type": "code",
   "execution_count": 3,
   "metadata": {},
   "outputs": [],
   "source": [
    "sentences=nltk.sent_tokenize(paragraph)\n",
    "stemmer=PorterStemmer()"
   ]
  },
  {
   "cell_type": "code",
   "execution_count": 4,
   "metadata": {},
   "outputs": [
    {
     "name": "stdout",
     "output_type": "stream",
     "text": [
      "33\n"
     ]
    }
   ],
   "source": [
    "#Stemming\n",
    "print(len(sentences))"
   ]
  },
  {
   "cell_type": "code",
   "execution_count": 5,
   "metadata": {},
   "outputs": [],
   "source": [
    "for i in range(len(sentences)):\n",
    "    words = nltk.word_tokenize(sentences[i])\n",
    "    words = [stemmer.stem(word) for word in words if word not in set(stopwords.words('english'))]\n",
    "    sentences[i] = ' '.join(words)   \n",
    "    \n",
    "    "
   ]
  },
  {
   "cell_type": "code",
   "execution_count": 6,
   "metadata": {},
   "outputs": [
    {
     "data": {
      "text/plain": [
       "['narendra modi born 17 septemb , 1950 vadnagar , gujarat lower middl class famili grocer .',\n",
       " 'He prove success noth cast , creed person belong .',\n",
       " 'He first prime minist india whose mother aliv took offic .',\n",
       " 'In lok sabha , repres varanasi constitu consid master strategist parti .',\n",
       " 'sinc 2014 , current prime minist india prior serv chief minist gujarat state 2001 2014 .',\n",
       " 'In lok sabha elect 2019 , narendra modi 4.79 lac vote shalini yadav , samajvadi parti .',\n",
       " 'hi swearing-in ceremoni organis 30th may , 2019 second term prime minist india .',\n",
       " 'He first bjp leader elect second term complet five-year tenur .',\n",
       " 'He ray hope live billion indian one popular leader mostli focus develop .',\n",
       " \"even slogan PM narendra modi `` main bhi chowkidar '' focus digniti labour aim take support work class .\",\n",
       " \"He said slogan felt also stand firm work nation 's 'chowkidar ' .\",\n",
       " 'further emphasis everi indian fight corrupt , dirt , social evil etc .',\n",
       " \"progress india also 'chowkidar .\",\n",
       " \"thi way slogan 'main bhi chowkidar ' went viral .\",\n",
       " 'In 2014 elect narendra modi led bjp impress victori .',\n",
       " 'Do know first time mla becam CM gujarat also first time MP becam prime minist india ?',\n",
       " 'No doubt , also one best applic prime ministeri candid forthcom lok sabha elect 2019 bharatiya janta parti ( bjp ) .',\n",
       " 'that lok sabha elect result 2019 , becam voic india .',\n",
       " 'He alway emphasis come age age knowledg .',\n",
       " 'howev , rich , poor power countri , want move ahead , knowledg lead path .',\n",
       " 'narendra modi born 17 septemb , 1950 famili grocer vadnagar , mehsana district , bombay state ( present gujarat ) .',\n",
       " \"hi father name late damodarda mulchand modi mother 's name hiraben modi coupl six children , third eldest among six .\",\n",
       " 'In childhood day modi help father sell tea vadnagar railway station later ran tea stall brother near bu terminu .',\n",
       " 'In 1967 , complet higher secondari educ vadnagar .',\n",
       " 'At age 8 year , join rashtriya swayamsevak sangh ( rss ) .',\n",
       " 'He ’ want marri left home age 17 travel across countri next two year .',\n",
       " 'In interview , told two year visit sever ashram found swami vivekananda .',\n",
       " 'then modi return vadnagar sometim left ahmedabad .',\n",
       " 'there , modi live uncl , work canteen gujarat state road transport corpor .',\n",
       " 'let us tell 1970 age 20 , influenc rss becam full time pracharak formal join rss 1971 age 21 .',\n",
       " \"In area , earli 1970 , set unit rss 's student wing name akhil bharatiya vidyarthi parishad .\",\n",
       " 'No doubt , associ organis significantli benefit polit career .',\n",
       " 'He complet bachelor art degre polit scienc school open learn univers delhi later complet master degre polit scienc gujarat univers .']"
      ]
     },
     "execution_count": 6,
     "metadata": {},
     "output_type": "execute_result"
    }
   ],
   "source": [
    "sentences"
   ]
  },
  {
   "cell_type": "code",
   "execution_count": null,
   "metadata": {},
   "outputs": [],
   "source": []
  }
 ],
 "metadata": {
  "kernelspec": {
   "display_name": "Python 3",
   "language": "python",
   "name": "python3"
  },
  "language_info": {
   "codemirror_mode": {
    "name": "ipython",
    "version": 3
   },
   "file_extension": ".py",
   "mimetype": "text/x-python",
   "name": "python",
   "nbconvert_exporter": "python",
   "pygments_lexer": "ipython3",
   "version": "3.6.8"
  }
 },
 "nbformat": 4,
 "nbformat_minor": 2
}
